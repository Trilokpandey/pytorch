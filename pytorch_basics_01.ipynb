{
  "nbformat": 4,
  "nbformat_minor": 0,
  "metadata": {
    "colab": {
      "provenance": [],
      "gpuType": "T4"
    },
    "kernelspec": {
      "name": "python3",
      "display_name": "Python 3"
    },
    "language_info": {
      "name": "python"
    },
    "accelerator": "GPU"
  },
  "cells": [
    {
      "cell_type": "code",
      "execution_count": 1,
      "metadata": {
        "colab": {
          "base_uri": "https://localhost:8080/"
        },
        "id": "ZlyEx7YOQOPG",
        "outputId": "823bc384-8eb3-4c74-b8bf-df4340cd3cc0"
      },
      "outputs": [
        {
          "output_type": "stream",
          "name": "stdout",
          "text": [
            "2.5.1+cu121\n"
          ]
        }
      ],
      "source": [
        "import torch\n",
        "print(torch.__version__)"
      ]
    },
    {
      "cell_type": "code",
      "source": [
        "if torch.cuda.is_available():\n",
        "  print(\"GPU is available\")\n",
        "  print(f\"using GPU : {torch.cuda.get_device_name(0)}\")\n",
        "else:\n",
        "  print(\"GPU not availabe.currently using CPU\")"
      ],
      "metadata": {
        "colab": {
          "base_uri": "https://localhost:8080/"
        },
        "id": "U7cm-qSsWT3s",
        "outputId": "6706a1a9-618f-4600-855a-26a11896c8a7"
      },
      "execution_count": 2,
      "outputs": [
        {
          "output_type": "stream",
          "name": "stdout",
          "text": [
            "GPU not availabe.currently using CPU\n"
          ]
        }
      ]
    },
    {
      "cell_type": "markdown",
      "source": [
        "# Creating tensor"
      ],
      "metadata": {
        "id": "NbrIMFRaW9dF"
      }
    },
    {
      "cell_type": "code",
      "source": [
        "# using empty\n",
        "\n",
        "a = torch.empty(2,3)\n",
        "a"
      ],
      "metadata": {
        "colab": {
          "base_uri": "https://localhost:8080/"
        },
        "id": "uH61ME6_WTzW",
        "outputId": "2c057ad0-cd36-41e7-a942-fab108ad8d0d"
      },
      "execution_count": 3,
      "outputs": [
        {
          "output_type": "execute_result",
          "data": {
            "text/plain": [
              "tensor([[0.0000e+00, 0.0000e+00, 0.0000e+00],\n",
              "        [0.0000e+00, 2.9333e+15, 4.3370e-41]])"
            ]
          },
          "metadata": {},
          "execution_count": 3
        }
      ]
    },
    {
      "cell_type": "code",
      "source": [
        "# check type\n",
        "type(a)"
      ],
      "metadata": {
        "colab": {
          "base_uri": "https://localhost:8080/"
        },
        "id": "-5DNoY_4WTwF",
        "outputId": "82a745be-ef52-4e7d-bc0e-2e0c130685d6"
      },
      "execution_count": 4,
      "outputs": [
        {
          "output_type": "execute_result",
          "data": {
            "text/plain": [
              "torch.Tensor"
            ]
          },
          "metadata": {},
          "execution_count": 4
        }
      ]
    },
    {
      "cell_type": "code",
      "source": [
        "# using zeros\n",
        "torch.zeros(2,3)"
      ],
      "metadata": {
        "colab": {
          "base_uri": "https://localhost:8080/"
        },
        "id": "FRPatk5YWTmB",
        "outputId": "9dbfbc38-b798-4968-eca3-9cffab0ba56d"
      },
      "execution_count": 5,
      "outputs": [
        {
          "output_type": "execute_result",
          "data": {
            "text/plain": [
              "tensor([[0., 0., 0.],\n",
              "        [0., 0., 0.]])"
            ]
          },
          "metadata": {},
          "execution_count": 5
        }
      ]
    },
    {
      "cell_type": "code",
      "source": [
        "# using ones\n",
        "\n",
        "torch.ones(2,3)"
      ],
      "metadata": {
        "colab": {
          "base_uri": "https://localhost:8080/"
        },
        "id": "yJhUzZMGbsFN",
        "outputId": "58ff80bb-082d-4746-aa02-6951bc19c0a4"
      },
      "execution_count": 6,
      "outputs": [
        {
          "output_type": "execute_result",
          "data": {
            "text/plain": [
              "tensor([[1., 1., 1.],\n",
              "        [1., 1., 1.]])"
            ]
          },
          "metadata": {},
          "execution_count": 6
        }
      ]
    },
    {
      "cell_type": "code",
      "source": [
        "# using rand\n",
        "\n",
        "torch.rand(2,3)"
      ],
      "metadata": {
        "colab": {
          "base_uri": "https://localhost:8080/"
        },
        "id": "qN10YyQ2b2LY",
        "outputId": "4181a7e8-d371-411b-a409-224882bc2f9b"
      },
      "execution_count": 7,
      "outputs": [
        {
          "output_type": "execute_result",
          "data": {
            "text/plain": [
              "tensor([[0.2787, 0.1451, 0.4027],\n",
              "        [0.5032, 0.7639, 0.4009]])"
            ]
          },
          "metadata": {},
          "execution_count": 7
        }
      ]
    },
    {
      "cell_type": "code",
      "source": [
        "torch.rand(2,3)"
      ],
      "metadata": {
        "colab": {
          "base_uri": "https://localhost:8080/"
        },
        "id": "dNwx-Ld7cZjg",
        "outputId": "066ee005-8f6c-4f62-bfa2-7249289f6339"
      },
      "execution_count": 8,
      "outputs": [
        {
          "output_type": "execute_result",
          "data": {
            "text/plain": [
              "tensor([[0.5734, 0.3762, 0.2246],\n",
              "        [0.9100, 0.5544, 0.8572]])"
            ]
          },
          "metadata": {},
          "execution_count": 8
        }
      ]
    },
    {
      "cell_type": "code",
      "source": [
        "# using manual seed\n",
        "torch.manual_seed(100)\n",
        "torch.rand(2,3)\n"
      ],
      "metadata": {
        "colab": {
          "base_uri": "https://localhost:8080/"
        },
        "id": "KmegE1MXcLtF",
        "outputId": "8ec7480c-d7a4-469b-cdf9-640f0be38a3c"
      },
      "execution_count": 9,
      "outputs": [
        {
          "output_type": "execute_result",
          "data": {
            "text/plain": [
              "tensor([[0.1117, 0.8158, 0.2626],\n",
              "        [0.4839, 0.6765, 0.7539]])"
            ]
          },
          "metadata": {},
          "execution_count": 9
        }
      ]
    },
    {
      "cell_type": "code",
      "source": [
        "\n",
        "torch.manual_seed(100)\n",
        "torch.rand(2,3)\n"
      ],
      "metadata": {
        "colab": {
          "base_uri": "https://localhost:8080/"
        },
        "outputId": "b69cf982-8640-4556-f442-9153807057dc",
        "id": "jSluJJNZcrGj"
      },
      "execution_count": 10,
      "outputs": [
        {
          "output_type": "execute_result",
          "data": {
            "text/plain": [
              "tensor([[0.1117, 0.8158, 0.2626],\n",
              "        [0.4839, 0.6765, 0.7539]])"
            ]
          },
          "metadata": {},
          "execution_count": 10
        }
      ]
    },
    {
      "cell_type": "code",
      "source": [
        "# using tensor\n",
        "\n",
        "torch.tensor([[1,2,3],[4,5,6]])"
      ],
      "metadata": {
        "colab": {
          "base_uri": "https://localhost:8080/"
        },
        "id": "UBSYnX2XcLi0",
        "outputId": "609def26-b8a5-4c37-86cc-3e628d82a683"
      },
      "execution_count": 11,
      "outputs": [
        {
          "output_type": "execute_result",
          "data": {
            "text/plain": [
              "tensor([[1, 2, 3],\n",
              "        [4, 5, 6]])"
            ]
          },
          "metadata": {},
          "execution_count": 11
        }
      ]
    },
    {
      "cell_type": "code",
      "source": [
        "#  other ways\n",
        "\n",
        "# using arange\n",
        "\n",
        "print(\"using arange : \",torch.arange(0,10,2))\n",
        "\n",
        "# using linspace\n",
        "\n",
        "print(\"using linspace : \",torch.linspace(0,10,10))\n",
        "\n",
        "# using eye\n",
        "\n",
        "print(\"using eye : \", torch.eye(5))\n",
        "\n",
        "# using full\n",
        "\n",
        "print(\"uing full : \",torch.full((3,3),5))\n"
      ],
      "metadata": {
        "id": "iJADUnmTcLZm",
        "colab": {
          "base_uri": "https://localhost:8080/"
        },
        "outputId": "21e83f7a-e79e-4ee1-9ccf-dd44b4275410"
      },
      "execution_count": 14,
      "outputs": [
        {
          "output_type": "stream",
          "name": "stdout",
          "text": [
            "using arange :  tensor([0, 2, 4, 6, 8])\n",
            "using linspace :  tensor([ 0.0000,  1.1111,  2.2222,  3.3333,  4.4444,  5.5556,  6.6667,  7.7778,\n",
            "         8.8889, 10.0000])\n",
            "using eye :  tensor([[1., 0., 0., 0., 0.],\n",
            "        [0., 1., 0., 0., 0.],\n",
            "        [0., 0., 1., 0., 0.],\n",
            "        [0., 0., 0., 1., 0.],\n",
            "        [0., 0., 0., 0., 1.]])\n",
            "uing full :  tensor([[5, 5, 5],\n",
            "        [5, 5, 5],\n",
            "        [5, 5, 5]])\n"
          ]
        }
      ]
    },
    {
      "cell_type": "markdown",
      "source": [
        "# Tensor shapes"
      ],
      "metadata": {
        "id": "zzb2q0-GOd4m"
      }
    },
    {
      "cell_type": "code",
      "source": [
        "x = torch.tensor([[1,2,3],[4,5,6],[7,8,9]])\n",
        "x"
      ],
      "metadata": {
        "colab": {
          "base_uri": "https://localhost:8080/"
        },
        "id": "VUWpATbGONhH",
        "outputId": "523eee6e-9df4-495d-ee5c-42ba02078660"
      },
      "execution_count": 15,
      "outputs": [
        {
          "output_type": "execute_result",
          "data": {
            "text/plain": [
              "tensor([[1, 2, 3],\n",
              "        [4, 5, 6],\n",
              "        [7, 8, 9]])"
            ]
          },
          "metadata": {},
          "execution_count": 15
        }
      ]
    },
    {
      "cell_type": "code",
      "source": [
        "x.shape"
      ],
      "metadata": {
        "colab": {
          "base_uri": "https://localhost:8080/"
        },
        "id": "vD-iiyASONWk",
        "outputId": "470d9020-a62e-4576-821d-dd7c948efd64"
      },
      "execution_count": 16,
      "outputs": [
        {
          "output_type": "execute_result",
          "data": {
            "text/plain": [
              "torch.Size([3, 3])"
            ]
          },
          "metadata": {},
          "execution_count": 16
        }
      ]
    },
    {
      "cell_type": "code",
      "source": [
        "torch.empty_like(x)"
      ],
      "metadata": {
        "colab": {
          "base_uri": "https://localhost:8080/"
        },
        "id": "6cS0oip5ONO0",
        "outputId": "e8698f8e-06f1-41fd-8efe-b390464ba9dd"
      },
      "execution_count": 17,
      "outputs": [
        {
          "output_type": "execute_result",
          "data": {
            "text/plain": [
              "tensor([[0, 0, 0],\n",
              "        [0, 1, 0],\n",
              "        [0, 0, 0]])"
            ]
          },
          "metadata": {},
          "execution_count": 17
        }
      ]
    },
    {
      "cell_type": "code",
      "source": [
        "torch.zeros_like(x)"
      ],
      "metadata": {
        "colab": {
          "base_uri": "https://localhost:8080/"
        },
        "id": "anypgMblONKV",
        "outputId": "1c28e5ed-38fa-4308-c5c0-84953c0eed2b"
      },
      "execution_count": 18,
      "outputs": [
        {
          "output_type": "execute_result",
          "data": {
            "text/plain": [
              "tensor([[0, 0, 0],\n",
              "        [0, 0, 0],\n",
              "        [0, 0, 0]])"
            ]
          },
          "metadata": {},
          "execution_count": 18
        }
      ]
    },
    {
      "cell_type": "code",
      "source": [
        "torch.ones_like(x)"
      ],
      "metadata": {
        "colab": {
          "base_uri": "https://localhost:8080/"
        },
        "id": "t9ncUO-bONGc",
        "outputId": "b7f511e2-24a6-48b4-9ffa-be1aa664e354"
      },
      "execution_count": 19,
      "outputs": [
        {
          "output_type": "execute_result",
          "data": {
            "text/plain": [
              "tensor([[1, 1, 1],\n",
              "        [1, 1, 1],\n",
              "        [1, 1, 1]])"
            ]
          },
          "metadata": {},
          "execution_count": 19
        }
      ]
    },
    {
      "cell_type": "code",
      "source": [
        "torch.rand_like(x)"
      ],
      "metadata": {
        "colab": {
          "base_uri": "https://localhost:8080/",
          "height": 141
        },
        "id": "tJPNDhwcOM72",
        "outputId": "4353db4c-01b7-4805-92af-7c85bab69204"
      },
      "execution_count": 20,
      "outputs": [
        {
          "output_type": "error",
          "ename": "RuntimeError",
          "evalue": "\"check_uniform_bounds\" not implemented for 'Long'",
          "traceback": [
            "\u001b[0;31m---------------------------------------------------------------------------\u001b[0m",
            "\u001b[0;31mRuntimeError\u001b[0m                              Traceback (most recent call last)",
            "\u001b[0;32m<ipython-input-20-8a266f1565c3>\u001b[0m in \u001b[0;36m<cell line: 1>\u001b[0;34m()\u001b[0m\n\u001b[0;32m----> 1\u001b[0;31m \u001b[0mtorch\u001b[0m\u001b[0;34m.\u001b[0m\u001b[0mrand_like\u001b[0m\u001b[0;34m(\u001b[0m\u001b[0mx\u001b[0m\u001b[0;34m)\u001b[0m\u001b[0;34m\u001b[0m\u001b[0;34m\u001b[0m\u001b[0m\n\u001b[0m",
            "\u001b[0;31mRuntimeError\u001b[0m: \"check_uniform_bounds\" not implemented for 'Long'"
          ]
        }
      ]
    },
    {
      "cell_type": "code",
      "source": [
        "torch.rand_like(x,dtype=torch.float32)"
      ],
      "metadata": {
        "colab": {
          "base_uri": "https://localhost:8080/"
        },
        "id": "yp81FfKPQ-yv",
        "outputId": "e7513d70-f910-4f1b-b01c-3d61b6b088f8"
      },
      "execution_count": 25,
      "outputs": [
        {
          "output_type": "execute_result",
          "data": {
            "text/plain": [
              "tensor([[0.2627, 0.0428, 0.2080],\n",
              "        [0.1180, 0.1217, 0.7356],\n",
              "        [0.7118, 0.7876, 0.4183]])"
            ]
          },
          "metadata": {},
          "execution_count": 25
        }
      ]
    },
    {
      "cell_type": "markdown",
      "source": [
        "# Tensor Data Types"
      ],
      "metadata": {
        "id": "nvd8mcUMPmfk"
      }
    },
    {
      "cell_type": "code",
      "source": [
        "# find data type\n",
        "\n",
        "x.dtype"
      ],
      "metadata": {
        "colab": {
          "base_uri": "https://localhost:8080/"
        },
        "id": "lKgQ7k22POHj",
        "outputId": "23222291-7eee-4bfa-ef68-137fbf013c32"
      },
      "execution_count": 21,
      "outputs": [
        {
          "output_type": "execute_result",
          "data": {
            "text/plain": [
              "torch.int64"
            ]
          },
          "metadata": {},
          "execution_count": 21
        }
      ]
    },
    {
      "cell_type": "code",
      "source": [
        "# assign data type\n",
        "\n",
        "torch.tensor([1.0,2.0,3.0],dtype=torch.int32)"
      ],
      "metadata": {
        "colab": {
          "base_uri": "https://localhost:8080/"
        },
        "id": "olZe9NuAPz7n",
        "outputId": "3b1228d5-df2e-4705-e4ed-b48e54553ed9"
      },
      "execution_count": 22,
      "outputs": [
        {
          "output_type": "execute_result",
          "data": {
            "text/plain": [
              "tensor([1, 2, 3], dtype=torch.int32)"
            ]
          },
          "metadata": {},
          "execution_count": 22
        }
      ]
    },
    {
      "cell_type": "code",
      "source": [
        "torch.tensor([1,2,3],dtype=torch.float64)"
      ],
      "metadata": {
        "colab": {
          "base_uri": "https://localhost:8080/"
        },
        "id": "WjyZiygDQD4-",
        "outputId": "5c04f1c8-7952-4c6f-d612-a8d6565e34db"
      },
      "execution_count": 23,
      "outputs": [
        {
          "output_type": "execute_result",
          "data": {
            "text/plain": [
              "tensor([1., 2., 3.], dtype=torch.float64)"
            ]
          },
          "metadata": {},
          "execution_count": 23
        }
      ]
    },
    {
      "cell_type": "code",
      "source": [
        "# using to()\n",
        "\n",
        "x.to(torch.float32)"
      ],
      "metadata": {
        "colab": {
          "base_uri": "https://localhost:8080/"
        },
        "id": "SNNiJiceQUE3",
        "outputId": "49e9b128-87f6-4404-f7c7-ac0eac4070f2"
      },
      "execution_count": 24,
      "outputs": [
        {
          "output_type": "execute_result",
          "data": {
            "text/plain": [
              "tensor([[1., 2., 3.],\n",
              "        [4., 5., 6.],\n",
              "        [7., 8., 9.]])"
            ]
          },
          "metadata": {},
          "execution_count": 24
        }
      ]
    },
    {
      "cell_type": "markdown",
      "source": [
        "# Mathematical operations"
      ],
      "metadata": {
        "id": "NrFK6pM-RLjU"
      }
    },
    {
      "cell_type": "markdown",
      "source": [
        "#### 1. Scaler operations"
      ],
      "metadata": {
        "id": "JrcMzmIARnvQ"
      }
    },
    {
      "cell_type": "code",
      "source": [
        "\n",
        "x = torch.rand(2,2)\n",
        "x"
      ],
      "metadata": {
        "colab": {
          "base_uri": "https://localhost:8080/"
        },
        "id": "1vM03VvoQrY2",
        "outputId": "dbadfba8-b4d7-488c-d110-78fb9a81b89d"
      },
      "execution_count": 27,
      "outputs": [
        {
          "output_type": "execute_result",
          "data": {
            "text/plain": [
              "tensor([[0.9014, 0.9969],\n",
              "        [0.7565, 0.2239]])"
            ]
          },
          "metadata": {},
          "execution_count": 27
        }
      ]
    },
    {
      "cell_type": "code",
      "source": [
        "# addition\n",
        "print(x+2)\n",
        "\n",
        "# substraction\n",
        "print(x-2)\n",
        "\n",
        "# multiplication\n",
        "print(x*2)\n",
        "\n",
        "# division\n",
        "print(x/3)\n",
        "\n",
        "# int division\n",
        "print((x*100)//3)\n",
        "# mod\n",
        "print(((x*100)//3)%2)\n",
        "\n",
        "# power\n",
        "print(x**2)\n"
      ],
      "metadata": {
        "colab": {
          "base_uri": "https://localhost:8080/"
        },
        "id": "l_cNs9HjRbOS",
        "outputId": "9c978105-5dbc-44e1-d55f-8428534da92b"
      },
      "execution_count": 31,
      "outputs": [
        {
          "output_type": "stream",
          "name": "stdout",
          "text": [
            "tensor([[2.9014, 2.9969],\n",
            "        [2.7565, 2.2239]])\n",
            "tensor([[-1.0986, -1.0031],\n",
            "        [-1.2435, -1.7761]])\n",
            "tensor([[1.8028, 1.9938],\n",
            "        [1.5130, 0.4478]])\n",
            "tensor([[0.3005, 0.3323],\n",
            "        [0.2522, 0.0746]])\n",
            "tensor([[30., 33.],\n",
            "        [25.,  7.]])\n",
            "tensor([[0., 1.],\n",
            "        [1., 1.]])\n",
            "tensor([[0.8125, 0.9938],\n",
            "        [0.5723, 0.0501]])\n"
          ]
        }
      ]
    },
    {
      "cell_type": "markdown",
      "source": [
        "#### 2.Element wise operations"
      ],
      "metadata": {
        "id": "cmKFeGIkSlNg"
      }
    },
    {
      "cell_type": "code",
      "source": [
        "a = torch.rand(2,3)\n",
        "b = torch.rand(2,3)"
      ],
      "metadata": {
        "id": "PJRc8cWESsmV"
      },
      "execution_count": 29,
      "outputs": []
    },
    {
      "cell_type": "code",
      "source": [
        "print(a)\n",
        "print(b)"
      ],
      "metadata": {
        "colab": {
          "base_uri": "https://localhost:8080/"
        },
        "id": "w04V2-XqSqPf",
        "outputId": "69c03e0a-e220-48e6-fe67-276582f3ab1d"
      },
      "execution_count": 30,
      "outputs": [
        {
          "output_type": "stream",
          "name": "stdout",
          "text": [
            "tensor([[0.3023, 0.1784, 0.8238],\n",
            "        [0.5557, 0.9770, 0.4440]])\n",
            "tensor([[0.9478, 0.7445, 0.4892],\n",
            "        [0.2426, 0.7003, 0.5277]])\n"
          ]
        }
      ]
    },
    {
      "cell_type": "code",
      "source": [
        "# add\n",
        "print(a+b)\n",
        "\n",
        "# substract\n",
        "print(a-b)\n",
        "\n",
        "# multiplication\n",
        "print(a*b)\n",
        "\n",
        "# division\n",
        "print(a/b)\n",
        "\n",
        "# power\n",
        "\n",
        "print(a**b)\n",
        "\n",
        "# mod\n",
        "print(a%b)"
      ],
      "metadata": {
        "colab": {
          "base_uri": "https://localhost:8080/"
        },
        "id": "zbNRtjYDS6xn",
        "outputId": "c2fb14fc-f6c7-41f4-fb48-01b1b552ec3b"
      },
      "execution_count": 32,
      "outputs": [
        {
          "output_type": "stream",
          "name": "stdout",
          "text": [
            "tensor([[1.2502, 0.9229, 1.3130],\n",
            "        [0.7983, 1.6774, 0.9717]])\n",
            "tensor([[-0.6455, -0.5661,  0.3346],\n",
            "        [ 0.3132,  0.2767, -0.0837]])\n",
            "tensor([[0.2866, 0.1328, 0.4030],\n",
            "        [0.1348, 0.6842, 0.2343]])\n",
            "tensor([[0.3190, 0.2397, 1.6841],\n",
            "        [2.2912, 1.3951, 0.8415]])\n",
            "tensor([[0.3218, 0.2771, 0.9096],\n",
            "        [0.8672, 0.9839, 0.6515]])\n",
            "tensor([[0.3023, 0.1784, 0.3346],\n",
            "        [0.0706, 0.2767, 0.4440]])\n"
          ]
        }
      ]
    },
    {
      "cell_type": "code",
      "source": [
        "c = torch.tensor([1,-2,3,-4])"
      ],
      "metadata": {
        "id": "aOoTCkFYURc5"
      },
      "execution_count": 33,
      "outputs": []
    },
    {
      "cell_type": "code",
      "source": [
        "# abs\n",
        "torch.abs(c)"
      ],
      "metadata": {
        "colab": {
          "base_uri": "https://localhost:8080/"
        },
        "id": "sQLTSTWuUkPw",
        "outputId": "fb47b163-21aa-4b94-b81d-6cc8123def39"
      },
      "execution_count": 34,
      "outputs": [
        {
          "output_type": "execute_result",
          "data": {
            "text/plain": [
              "tensor([1, 2, 3, 4])"
            ]
          },
          "metadata": {},
          "execution_count": 34
        }
      ]
    },
    {
      "cell_type": "code",
      "source": [
        "# negative\n",
        "\n",
        "torch.neg(c)"
      ],
      "metadata": {
        "colab": {
          "base_uri": "https://localhost:8080/"
        },
        "id": "8bvkk7iEUqMK",
        "outputId": "a9e864ba-7d87-4fed-c43c-ee01dcdd0714"
      },
      "execution_count": 35,
      "outputs": [
        {
          "output_type": "execute_result",
          "data": {
            "text/plain": [
              "tensor([-1,  2, -3,  4])"
            ]
          },
          "metadata": {},
          "execution_count": 35
        }
      ]
    },
    {
      "cell_type": "code",
      "source": [
        "d = torch.tensor([1.9,2.3,3.7,4.4])"
      ],
      "metadata": {
        "id": "gG97daymU8nT"
      },
      "execution_count": 36,
      "outputs": []
    },
    {
      "cell_type": "code",
      "source": [
        "# round\n",
        "\n",
        "torch.round(d)"
      ],
      "metadata": {
        "colab": {
          "base_uri": "https://localhost:8080/"
        },
        "id": "m5--fACLUyEP",
        "outputId": "e412a931-6786-41ea-ce95-fa3d6107ab1d"
      },
      "execution_count": 37,
      "outputs": [
        {
          "output_type": "execute_result",
          "data": {
            "text/plain": [
              "tensor([2., 2., 4., 4.])"
            ]
          },
          "metadata": {},
          "execution_count": 37
        }
      ]
    },
    {
      "cell_type": "code",
      "source": [
        "# ceil\n",
        "\n",
        "torch.ceil(d)"
      ],
      "metadata": {
        "colab": {
          "base_uri": "https://localhost:8080/"
        },
        "id": "4MzsAXlIVJr2",
        "outputId": "255cd735-6619-4684-802c-5a9e0c3bd725"
      },
      "execution_count": 38,
      "outputs": [
        {
          "output_type": "execute_result",
          "data": {
            "text/plain": [
              "tensor([2., 3., 4., 5.])"
            ]
          },
          "metadata": {},
          "execution_count": 38
        }
      ]
    },
    {
      "cell_type": "code",
      "source": [
        "# floor\n",
        "\n",
        "torch.floor(d)"
      ],
      "metadata": {
        "colab": {
          "base_uri": "https://localhost:8080/"
        },
        "id": "Ky1ZDs8SVJeN",
        "outputId": "244405dd-2422-4f2d-b334-2306bf27772e"
      },
      "execution_count": 39,
      "outputs": [
        {
          "output_type": "execute_result",
          "data": {
            "text/plain": [
              "tensor([1., 2., 3., 4.])"
            ]
          },
          "metadata": {},
          "execution_count": 39
        }
      ]
    },
    {
      "cell_type": "code",
      "source": [
        "# clamp\n",
        "torch.clamp(d,min=2,max=3)"
      ],
      "metadata": {
        "colab": {
          "base_uri": "https://localhost:8080/"
        },
        "id": "crygfUa1VJa0",
        "outputId": "5d324556-0401-4725-9515-7d942e30c319"
      },
      "execution_count": 40,
      "outputs": [
        {
          "output_type": "execute_result",
          "data": {
            "text/plain": [
              "tensor([2.0000, 2.3000, 3.0000, 3.0000])"
            ]
          },
          "metadata": {},
          "execution_count": 40
        }
      ]
    },
    {
      "cell_type": "markdown",
      "source": [
        "#### 3. Reduction operation"
      ],
      "metadata": {
        "id": "of6kkkqOVjiB"
      }
    },
    {
      "cell_type": "code",
      "source": [
        "e = torch.randint(size=(2,3),low=0,high=10,dtype=torch.float32)\n",
        "e"
      ],
      "metadata": {
        "colab": {
          "base_uri": "https://localhost:8080/"
        },
        "id": "7FKD9x4jVJXZ",
        "outputId": "d660be8b-553c-4f9e-d618-be70232914e4"
      },
      "execution_count": 45,
      "outputs": [
        {
          "output_type": "execute_result",
          "data": {
            "text/plain": [
              "tensor([[9., 4., 0.],\n",
              "        [5., 7., 5.]])"
            ]
          },
          "metadata": {},
          "execution_count": 45
        }
      ]
    },
    {
      "cell_type": "code",
      "source": [
        "# sum\n",
        "\n",
        "print(torch.sum(e))\n",
        "\n",
        "# sum along columns\n",
        "\n",
        "print(torch.sum(e,dim=0))\n",
        "\n",
        "# sum along rows\n",
        "\n",
        "print(torch.sum(e,dim=1))"
      ],
      "metadata": {
        "colab": {
          "base_uri": "https://localhost:8080/"
        },
        "id": "OuMGqyzJVJTo",
        "outputId": "858b853d-604b-4ebd-99d9-2970b702b995"
      },
      "execution_count": 46,
      "outputs": [
        {
          "output_type": "stream",
          "name": "stdout",
          "text": [
            "tensor(30.)\n",
            "tensor([14., 11.,  5.])\n",
            "tensor([13., 17.])\n"
          ]
        }
      ]
    },
    {
      "cell_type": "code",
      "source": [
        "# mean\n",
        "print(torch.mean(e))\n",
        "# mean along columns\n",
        "\n",
        "print(torch.mean(e,dim=0))"
      ],
      "metadata": {
        "colab": {
          "base_uri": "https://localhost:8080/"
        },
        "id": "6rW-y3b7WV_S",
        "outputId": "74a7a2ba-fc53-4f8e-dbb7-a3b22f2f970e"
      },
      "execution_count": 47,
      "outputs": [
        {
          "output_type": "stream",
          "name": "stdout",
          "text": [
            "tensor(5.)\n",
            "tensor([7.0000, 5.5000, 2.5000])\n"
          ]
        }
      ]
    },
    {
      "cell_type": "code",
      "source": [
        "# median\n",
        "\n",
        "print(torch.median(e))"
      ],
      "metadata": {
        "colab": {
          "base_uri": "https://localhost:8080/"
        },
        "id": "6-P631ssW4w_",
        "outputId": "f44c0b8d-a85d-4df0-96fe-dbaaeaf3c68d"
      },
      "execution_count": 48,
      "outputs": [
        {
          "output_type": "stream",
          "name": "stdout",
          "text": [
            "tensor(5.)\n"
          ]
        }
      ]
    },
    {
      "cell_type": "code",
      "source": [
        "# max and min\n",
        "\n",
        "print(torch.max(e))\n",
        "\n",
        "print(torch.min(e))"
      ],
      "metadata": {
        "colab": {
          "base_uri": "https://localhost:8080/"
        },
        "id": "LhiF3J-HXAEy",
        "outputId": "903ba5a8-1177-4c87-e636-c7853e88429c"
      },
      "execution_count": 49,
      "outputs": [
        {
          "output_type": "stream",
          "name": "stdout",
          "text": [
            "tensor(9.)\n",
            "tensor(0.)\n"
          ]
        }
      ]
    },
    {
      "cell_type": "code",
      "source": [
        "# product\n",
        "\n",
        "print(torch.prod(e))"
      ],
      "metadata": {
        "colab": {
          "base_uri": "https://localhost:8080/"
        },
        "id": "dXfwM_B3XIww",
        "outputId": "57d89ef6-8f67-4b19-a519-d5f14106bc4c"
      },
      "execution_count": 50,
      "outputs": [
        {
          "output_type": "stream",
          "name": "stdout",
          "text": [
            "tensor(0.)\n"
          ]
        }
      ]
    },
    {
      "cell_type": "code",
      "source": [
        "# std dev\n",
        "\n",
        "print(torch.std(e))"
      ],
      "metadata": {
        "colab": {
          "base_uri": "https://localhost:8080/"
        },
        "id": "dSD_P_DvXIsA",
        "outputId": "17a50058-fe18-4040-8722-f9bccca1e3d9"
      },
      "execution_count": 51,
      "outputs": [
        {
          "output_type": "stream",
          "name": "stdout",
          "text": [
            "tensor(3.0332)\n"
          ]
        }
      ]
    },
    {
      "cell_type": "code",
      "source": [
        "# variance\n",
        "\n",
        "print(torch.var(e))"
      ],
      "metadata": {
        "colab": {
          "base_uri": "https://localhost:8080/"
        },
        "id": "-D0Hg5C0XIo0",
        "outputId": "3e592d86-af5c-4f01-823d-306f489b02be"
      },
      "execution_count": 52,
      "outputs": [
        {
          "output_type": "stream",
          "name": "stdout",
          "text": [
            "tensor(9.2000)\n"
          ]
        }
      ]
    },
    {
      "cell_type": "code",
      "source": [
        "# argmax and argmin\n",
        "\n",
        "print(torch.argmax(e))\n",
        "print(torch.argmin(e))"
      ],
      "metadata": {
        "colab": {
          "base_uri": "https://localhost:8080/"
        },
        "id": "U5pect8wXIl4",
        "outputId": "355d7bf4-c876-457c-ed41-e899a7735466"
      },
      "execution_count": 55,
      "outputs": [
        {
          "output_type": "stream",
          "name": "stdout",
          "text": [
            "tensor(0)\n",
            "tensor(2)\n"
          ]
        }
      ]
    },
    {
      "cell_type": "markdown",
      "source": [
        "#### 4.Matrix operations"
      ],
      "metadata": {
        "id": "_WUQ_ve4X6-5"
      }
    },
    {
      "cell_type": "code",
      "source": [
        "f = torch.randint(size=(2,3),low = 0,high = 10)\n",
        "g = torch.randint(size=(3,2),low = 0 ,high =10)"
      ],
      "metadata": {
        "id": "97zT9L63XIit"
      },
      "execution_count": 56,
      "outputs": []
    },
    {
      "cell_type": "code",
      "source": [
        "print(f)\n",
        "print(g)"
      ],
      "metadata": {
        "colab": {
          "base_uri": "https://localhost:8080/"
        },
        "id": "6IHowfnUXIfg",
        "outputId": "47c48c6d-51a6-444f-a494-0d0f7d1e6153"
      },
      "execution_count": 57,
      "outputs": [
        {
          "output_type": "stream",
          "name": "stdout",
          "text": [
            "tensor([[9, 9, 7],\n",
            "        [5, 9, 8]])\n",
            "tensor([[9, 7],\n",
            "        [9, 2],\n",
            "        [6, 7]])\n"
          ]
        }
      ]
    },
    {
      "cell_type": "code",
      "source": [
        "# matrix multiplication\n",
        "\n",
        "torch.matmul(f,g)"
      ],
      "metadata": {
        "colab": {
          "base_uri": "https://localhost:8080/"
        },
        "id": "Y8meUZrcXIbo",
        "outputId": "53091f86-84c2-4a13-9a18-2c6094fe8672"
      },
      "execution_count": 58,
      "outputs": [
        {
          "output_type": "execute_result",
          "data": {
            "text/plain": [
              "tensor([[204, 130],\n",
              "        [174, 109]])"
            ]
          },
          "metadata": {},
          "execution_count": 58
        }
      ]
    },
    {
      "cell_type": "code",
      "source": [
        "vector1 = torch.tensor([1,2])\n",
        "vector2 = torch.tensor([3,4])\n",
        "\n",
        "# dot product\n",
        "torch.dot(vector1,vector2)"
      ],
      "metadata": {
        "colab": {
          "base_uri": "https://localhost:8080/"
        },
        "id": "Dcd8ldgVXE1A",
        "outputId": "521a0f29-40b4-4837-9e0a-5df1adb34c69"
      },
      "execution_count": 59,
      "outputs": [
        {
          "output_type": "execute_result",
          "data": {
            "text/plain": [
              "tensor(11)"
            ]
          },
          "metadata": {},
          "execution_count": 59
        }
      ]
    },
    {
      "cell_type": "code",
      "source": [
        "# transpose\n",
        "print(f)\n",
        "print(\"after transpose :\")\n",
        "torch.transpose(f,0,1)"
      ],
      "metadata": {
        "colab": {
          "base_uri": "https://localhost:8080/"
        },
        "id": "HTj2L1WkZABN",
        "outputId": "4249a376-f5e7-4275-ba31-c16839d97b5b"
      },
      "execution_count": 60,
      "outputs": [
        {
          "output_type": "stream",
          "name": "stdout",
          "text": [
            "tensor([[9, 9, 7],\n",
            "        [5, 9, 8]])\n",
            "after transpose :\n"
          ]
        },
        {
          "output_type": "execute_result",
          "data": {
            "text/plain": [
              "tensor([[9, 5],\n",
              "        [9, 9],\n",
              "        [7, 8]])"
            ]
          },
          "metadata": {},
          "execution_count": 60
        }
      ]
    },
    {
      "cell_type": "code",
      "source": [
        "h = torch.randint(size=(3,3),low =0 ,high=10,dtype=torch.float32)\n",
        "h"
      ],
      "metadata": {
        "colab": {
          "base_uri": "https://localhost:8080/"
        },
        "id": "WVdbOS3qZepb",
        "outputId": "e215b0ea-3fd1-4d0a-b3ed-e10fab07f6a0"
      },
      "execution_count": 62,
      "outputs": [
        {
          "output_type": "execute_result",
          "data": {
            "text/plain": [
              "tensor([[3., 8., 8.],\n",
              "        [3., 3., 5.],\n",
              "        [0., 6., 4.]])"
            ]
          },
          "metadata": {},
          "execution_count": 62
        }
      ]
    },
    {
      "cell_type": "code",
      "source": [
        "# determinant\n",
        "torch.det(h)"
      ],
      "metadata": {
        "colab": {
          "base_uri": "https://localhost:8080/"
        },
        "id": "_i28BEQ_Z1No",
        "outputId": "6ca63e86-ecd2-4962-8530-a689b0c647c9"
      },
      "execution_count": 63,
      "outputs": [
        {
          "output_type": "execute_result",
          "data": {
            "text/plain": [
              "tensor(-6.)"
            ]
          },
          "metadata": {},
          "execution_count": 63
        }
      ]
    },
    {
      "cell_type": "code",
      "source": [
        "# inverse\n",
        "\n",
        "torch.inverse(h)"
      ],
      "metadata": {
        "colab": {
          "base_uri": "https://localhost:8080/"
        },
        "id": "7hZ8eM3kaGpq",
        "outputId": "fd9888e5-6ad3-42e8-a5ed-9d46218dec95"
      },
      "execution_count": 64,
      "outputs": [
        {
          "output_type": "execute_result",
          "data": {
            "text/plain": [
              "tensor([[ 3.0000, -2.6667, -2.6667],\n",
              "        [ 2.0000, -2.0000, -1.5000],\n",
              "        [-3.0000,  3.0000,  2.5000]])"
            ]
          },
          "metadata": {},
          "execution_count": 64
        }
      ]
    },
    {
      "cell_type": "markdown",
      "source": [
        "#### 5. comparison operations"
      ],
      "metadata": {
        "id": "hl7Q_OgfaQ0b"
      }
    },
    {
      "cell_type": "code",
      "source": [
        "i = torch.randint(size=(2,3),low=0,high=10)\n",
        "j = torch.randint(size=(2,3),low=0,high=10)\n",
        "print(i)\n",
        "print(j)"
      ],
      "metadata": {
        "colab": {
          "base_uri": "https://localhost:8080/"
        },
        "id": "fRVIu80QaZ9q",
        "outputId": "50656c1d-71bb-41e3-f486-6eb52c89217e"
      },
      "execution_count": 65,
      "outputs": [
        {
          "output_type": "stream",
          "name": "stdout",
          "text": [
            "tensor([[0, 8, 4],\n",
            "        [7, 2, 3]])\n",
            "tensor([[8, 5, 6],\n",
            "        [2, 9, 5]])\n"
          ]
        }
      ]
    },
    {
      "cell_type": "code",
      "source": [
        "# greater than\n",
        "print(i>j)\n",
        "# less than\n",
        "print(i<j)\n",
        "# eqaul to\n",
        "print(i==j)\n",
        "# not equal to\n",
        "print(i!=j)\n",
        "# greater than equal to\n",
        "print(i>=j)\n",
        "# less than equal to\n",
        "print(i<=j)\n"
      ],
      "metadata": {
        "colab": {
          "base_uri": "https://localhost:8080/"
        },
        "id": "LwZ7fON1an3o",
        "outputId": "5b325f62-baf7-406c-b5f5-8329f1fc96f5"
      },
      "execution_count": 66,
      "outputs": [
        {
          "output_type": "stream",
          "name": "stdout",
          "text": [
            "tensor([[False,  True, False],\n",
            "        [ True, False, False]])\n",
            "tensor([[ True, False,  True],\n",
            "        [False,  True,  True]])\n",
            "tensor([[False, False, False],\n",
            "        [False, False, False]])\n",
            "tensor([[True, True, True],\n",
            "        [True, True, True]])\n",
            "tensor([[False,  True, False],\n",
            "        [ True, False, False]])\n",
            "tensor([[ True, False,  True],\n",
            "        [False,  True,  True]])\n"
          ]
        }
      ]
    },
    {
      "cell_type": "markdown",
      "source": [
        "#### 6 .special functions"
      ],
      "metadata": {
        "id": "ccLajtcGbYu5"
      }
    },
    {
      "cell_type": "code",
      "source": [
        "k = torch.randint(size=(2,3),low=0,high=10,dtype=torch.float32)\n",
        "k"
      ],
      "metadata": {
        "colab": {
          "base_uri": "https://localhost:8080/"
        },
        "id": "3JzXoTepbPv7",
        "outputId": "4ca0be5c-ad74-4d8c-db14-a9398428eaa6"
      },
      "execution_count": 73,
      "outputs": [
        {
          "output_type": "execute_result",
          "data": {
            "text/plain": [
              "tensor([[5., 4., 4.],\n",
              "        [1., 1., 2.]])"
            ]
          },
          "metadata": {},
          "execution_count": 73
        }
      ]
    },
    {
      "cell_type": "code",
      "source": [
        "# log\n",
        "\n",
        "torch.log(k)"
      ],
      "metadata": {
        "colab": {
          "base_uri": "https://localhost:8080/"
        },
        "id": "iAQOO0HDbVHA",
        "outputId": "b82a8a23-bcd7-4a14-db84-f8b99d735cc5"
      },
      "execution_count": 74,
      "outputs": [
        {
          "output_type": "execute_result",
          "data": {
            "text/plain": [
              "tensor([[1.6094, 1.3863, 1.3863],\n",
              "        [0.0000, 0.0000, 0.6931]])"
            ]
          },
          "metadata": {},
          "execution_count": 74
        }
      ]
    },
    {
      "cell_type": "code",
      "source": [
        "# exponent\n",
        "\n",
        "torch.exp(k)"
      ],
      "metadata": {
        "colab": {
          "base_uri": "https://localhost:8080/"
        },
        "id": "qnuGYP0JbVAa",
        "outputId": "4a6277dc-492b-497d-d661-0152c5779619"
      },
      "execution_count": 75,
      "outputs": [
        {
          "output_type": "execute_result",
          "data": {
            "text/plain": [
              "tensor([[148.4132,  54.5981,  54.5981],\n",
              "        [  2.7183,   2.7183,   7.3891]])"
            ]
          },
          "metadata": {},
          "execution_count": 75
        }
      ]
    },
    {
      "cell_type": "code",
      "source": [
        "# sqrt\n",
        "\n",
        "torch.sqrt(k)"
      ],
      "metadata": {
        "colab": {
          "base_uri": "https://localhost:8080/"
        },
        "id": "6eJaOp3AbU85",
        "outputId": "9c3fda80-cbf2-49e4-a597-8efd754af077"
      },
      "execution_count": 76,
      "outputs": [
        {
          "output_type": "execute_result",
          "data": {
            "text/plain": [
              "tensor([[2.2361, 2.0000, 2.0000],\n",
              "        [1.0000, 1.0000, 1.4142]])"
            ]
          },
          "metadata": {},
          "execution_count": 76
        }
      ]
    },
    {
      "cell_type": "code",
      "source": [
        "# sigmoid\n",
        "\n",
        "torch.sigmoid(k)"
      ],
      "metadata": {
        "colab": {
          "base_uri": "https://localhost:8080/"
        },
        "id": "ggF-2Yz_bU5S",
        "outputId": "02d880e3-db96-42a3-d874-960bcbed1067"
      },
      "execution_count": 77,
      "outputs": [
        {
          "output_type": "execute_result",
          "data": {
            "text/plain": [
              "tensor([[0.9933, 0.9820, 0.9820],\n",
              "        [0.7311, 0.7311, 0.8808]])"
            ]
          },
          "metadata": {},
          "execution_count": 77
        }
      ]
    },
    {
      "cell_type": "code",
      "source": [
        "# softmax\n",
        "\n",
        "torch.softmax(k,dim=0)"
      ],
      "metadata": {
        "colab": {
          "base_uri": "https://localhost:8080/"
        },
        "id": "nPwqwxdNb7er",
        "outputId": "6c4c4a58-9baf-4a10-bf33-4c8e0d3d9e0d"
      },
      "execution_count": 78,
      "outputs": [
        {
          "output_type": "execute_result",
          "data": {
            "text/plain": [
              "tensor([[0.9820, 0.9526, 0.8808],\n",
              "        [0.0180, 0.0474, 0.1192]])"
            ]
          },
          "metadata": {},
          "execution_count": 78
        }
      ]
    },
    {
      "cell_type": "code",
      "source": [
        "# relu\n",
        "\n",
        "torch.relu(k)"
      ],
      "metadata": {
        "colab": {
          "base_uri": "https://localhost:8080/"
        },
        "id": "_S5vDS-wb_mJ",
        "outputId": "a5e04933-7634-4c3c-d00a-6e40b9bb5a51"
      },
      "execution_count": 79,
      "outputs": [
        {
          "output_type": "execute_result",
          "data": {
            "text/plain": [
              "tensor([[5., 4., 4.],\n",
              "        [1., 1., 2.]])"
            ]
          },
          "metadata": {},
          "execution_count": 79
        }
      ]
    },
    {
      "cell_type": "markdown",
      "source": [
        "#### 7. Inpace operations"
      ],
      "metadata": {
        "id": "w79jf8WpcuTH"
      }
    },
    {
      "cell_type": "code",
      "source": [
        "m = torch.rand(2,3)\n",
        "n = torch.rand(2,3)\n",
        "print(m)\n",
        "print(n)"
      ],
      "metadata": {
        "colab": {
          "base_uri": "https://localhost:8080/"
        },
        "id": "v6RT38sCcxI6",
        "outputId": "63e3a64a-8e7d-45a4-9d0e-a55e492619ce"
      },
      "execution_count": 80,
      "outputs": [
        {
          "output_type": "stream",
          "name": "stdout",
          "text": [
            "tensor([[0.9186, 0.2131, 0.3957],\n",
            "        [0.6017, 0.4234, 0.5224]])\n",
            "tensor([[0.4175, 0.0340, 0.9157],\n",
            "        [0.3079, 0.6269, 0.8277]])\n"
          ]
        }
      ]
    },
    {
      "cell_type": "code",
      "source": [
        "m+n"
      ],
      "metadata": {
        "colab": {
          "base_uri": "https://localhost:8080/"
        },
        "id": "RvM8i4oUc5dG",
        "outputId": "18efe789-2d67-4b13-e19b-40d464ce56b3"
      },
      "execution_count": 81,
      "outputs": [
        {
          "output_type": "execute_result",
          "data": {
            "text/plain": [
              "tensor([[1.3361, 0.2472, 1.3114],\n",
              "        [0.9096, 1.0504, 1.3501]])"
            ]
          },
          "metadata": {},
          "execution_count": 81
        }
      ]
    },
    {
      "cell_type": "code",
      "source": [
        "m.add_(n) # for permanent changes in m"
      ],
      "metadata": {
        "colab": {
          "base_uri": "https://localhost:8080/"
        },
        "id": "KPwE6U_Lc9Qx",
        "outputId": "cd116ec3-5d0c-4931-cff2-0f82607743cf"
      },
      "execution_count": 82,
      "outputs": [
        {
          "output_type": "execute_result",
          "data": {
            "text/plain": [
              "tensor([[1.3361, 0.2472, 1.3114],\n",
              "        [0.9096, 1.0504, 1.3501]])"
            ]
          },
          "metadata": {},
          "execution_count": 82
        }
      ]
    },
    {
      "cell_type": "code",
      "source": [
        "m"
      ],
      "metadata": {
        "colab": {
          "base_uri": "https://localhost:8080/"
        },
        "id": "67EHQLetdSr-",
        "outputId": "735c1d9d-6147-4951-ae71-d7fc138754f8"
      },
      "execution_count": 83,
      "outputs": [
        {
          "output_type": "execute_result",
          "data": {
            "text/plain": [
              "tensor([[1.3361, 0.2472, 1.3114],\n",
              "        [0.9096, 1.0504, 1.3501]])"
            ]
          },
          "metadata": {},
          "execution_count": 83
        }
      ]
    },
    {
      "cell_type": "code",
      "source": [
        "n"
      ],
      "metadata": {
        "colab": {
          "base_uri": "https://localhost:8080/"
        },
        "id": "IPgeLecfdTqF",
        "outputId": "462d5305-7303-4130-eb9c-9ec8a789fd3c"
      },
      "execution_count": 84,
      "outputs": [
        {
          "output_type": "execute_result",
          "data": {
            "text/plain": [
              "tensor([[0.4175, 0.0340, 0.9157],\n",
              "        [0.3079, 0.6269, 0.8277]])"
            ]
          },
          "metadata": {},
          "execution_count": 84
        }
      ]
    },
    {
      "cell_type": "code",
      "source": [
        "torch.relu(m)"
      ],
      "metadata": {
        "colab": {
          "base_uri": "https://localhost:8080/"
        },
        "id": "aUhAuAUQdY5w",
        "outputId": "edc6a648-3a63-4e45-fdb2-ad4d977793dc"
      },
      "execution_count": 85,
      "outputs": [
        {
          "output_type": "execute_result",
          "data": {
            "text/plain": [
              "tensor([[1.3361, 0.2472, 1.3114],\n",
              "        [0.9096, 1.0504, 1.3501]])"
            ]
          },
          "metadata": {},
          "execution_count": 85
        }
      ]
    },
    {
      "cell_type": "code",
      "source": [
        "m"
      ],
      "metadata": {
        "colab": {
          "base_uri": "https://localhost:8080/"
        },
        "id": "5i_PtKoVd0Jx",
        "outputId": "f71628d4-67cd-4c61-fa4b-e799c4cb7189"
      },
      "execution_count": 86,
      "outputs": [
        {
          "output_type": "execute_result",
          "data": {
            "text/plain": [
              "tensor([[1.3361, 0.2472, 1.3114],\n",
              "        [0.9096, 1.0504, 1.3501]])"
            ]
          },
          "metadata": {},
          "execution_count": 86
        }
      ]
    },
    {
      "cell_type": "code",
      "source": [
        "m.relu_() # for permanent changes in m"
      ],
      "metadata": {
        "colab": {
          "base_uri": "https://localhost:8080/"
        },
        "id": "G6zlpEZ6d8f7",
        "outputId": "1375e18f-84f9-495d-f785-68eb56d1de05"
      },
      "execution_count": 87,
      "outputs": [
        {
          "output_type": "execute_result",
          "data": {
            "text/plain": [
              "tensor([[1.3361, 0.2472, 1.3114],\n",
              "        [0.9096, 1.0504, 1.3501]])"
            ]
          },
          "metadata": {},
          "execution_count": 87
        }
      ]
    },
    {
      "cell_type": "code",
      "source": [
        "m"
      ],
      "metadata": {
        "colab": {
          "base_uri": "https://localhost:8080/"
        },
        "id": "lOSryMGOeGrG",
        "outputId": "0ae96ca5-09c8-41dc-f05c-48e2cca21a5a"
      },
      "execution_count": 88,
      "outputs": [
        {
          "output_type": "execute_result",
          "data": {
            "text/plain": [
              "tensor([[1.3361, 0.2472, 1.3114],\n",
              "        [0.9096, 1.0504, 1.3501]])"
            ]
          },
          "metadata": {},
          "execution_count": 88
        }
      ]
    },
    {
      "cell_type": "markdown",
      "source": [
        "#### 8 .copying a tensor"
      ],
      "metadata": {
        "id": "AXgaSpUuecWF"
      }
    },
    {
      "cell_type": "code",
      "source": [
        "a = torch.rand(2,3)\n",
        "a"
      ],
      "metadata": {
        "colab": {
          "base_uri": "https://localhost:8080/"
        },
        "id": "aVnwzYp8eHsP",
        "outputId": "18b1cc47-0a4f-4dc8-ee06-0e1ae7fd01c9"
      },
      "execution_count": 90,
      "outputs": [
        {
          "output_type": "execute_result",
          "data": {
            "text/plain": [
              "tensor([[0.6594, 0.0887, 0.4890],\n",
              "        [0.5887, 0.7340, 0.8497]])"
            ]
          },
          "metadata": {},
          "execution_count": 90
        }
      ]
    },
    {
      "cell_type": "code",
      "source": [
        "b =a"
      ],
      "metadata": {
        "id": "SSTgMLpJeiqI"
      },
      "execution_count": 91,
      "outputs": []
    },
    {
      "cell_type": "code",
      "source": [
        "b"
      ],
      "metadata": {
        "colab": {
          "base_uri": "https://localhost:8080/"
        },
        "id": "GUhrwBNUe3XL",
        "outputId": "198a2716-e43a-4561-cdcc-281c69512370"
      },
      "execution_count": 92,
      "outputs": [
        {
          "output_type": "execute_result",
          "data": {
            "text/plain": [
              "tensor([[0.6594, 0.0887, 0.4890],\n",
              "        [0.5887, 0.7340, 0.8497]])"
            ]
          },
          "metadata": {},
          "execution_count": 92
        }
      ]
    },
    {
      "cell_type": "code",
      "source": [
        "a[0][0]=0"
      ],
      "metadata": {
        "id": "Ggr05qUre37P"
      },
      "execution_count": 93,
      "outputs": []
    },
    {
      "cell_type": "code",
      "source": [
        "a"
      ],
      "metadata": {
        "colab": {
          "base_uri": "https://localhost:8080/"
        },
        "id": "v8YB1rtbe595",
        "outputId": "40a6711a-f746-41b2-8777-a77175c23a44"
      },
      "execution_count": 94,
      "outputs": [
        {
          "output_type": "execute_result",
          "data": {
            "text/plain": [
              "tensor([[0.0000, 0.0887, 0.4890],\n",
              "        [0.5887, 0.7340, 0.8497]])"
            ]
          },
          "metadata": {},
          "execution_count": 94
        }
      ]
    },
    {
      "cell_type": "code",
      "source": [
        "b"
      ],
      "metadata": {
        "colab": {
          "base_uri": "https://localhost:8080/"
        },
        "id": "_QHq89Jme6oJ",
        "outputId": "8aedfb7f-e383-439c-af03-72e73c3b054d"
      },
      "execution_count": 95,
      "outputs": [
        {
          "output_type": "execute_result",
          "data": {
            "text/plain": [
              "tensor([[0.0000, 0.0887, 0.4890],\n",
              "        [0.5887, 0.7340, 0.8497]])"
            ]
          },
          "metadata": {},
          "execution_count": 95
        }
      ]
    },
    {
      "cell_type": "code",
      "source": [
        "c = a.clone()"
      ],
      "metadata": {
        "id": "bRz0THRie7VG"
      },
      "execution_count": 96,
      "outputs": []
    },
    {
      "cell_type": "code",
      "source": [
        "c"
      ],
      "metadata": {
        "colab": {
          "base_uri": "https://localhost:8080/"
        },
        "id": "DUicLe8NfRBc",
        "outputId": "e958ace2-0ccf-4fa5-c8a8-0d749bea79af"
      },
      "execution_count": 97,
      "outputs": [
        {
          "output_type": "execute_result",
          "data": {
            "text/plain": [
              "tensor([[0.0000, 0.0887, 0.4890],\n",
              "        [0.5887, 0.7340, 0.8497]])"
            ]
          },
          "metadata": {},
          "execution_count": 97
        }
      ]
    },
    {
      "cell_type": "code",
      "source": [
        "a"
      ],
      "metadata": {
        "colab": {
          "base_uri": "https://localhost:8080/"
        },
        "id": "6XRygbgffR5C",
        "outputId": "351d01d2-5e67-4692-dc7d-e2a13ecb3c93"
      },
      "execution_count": 98,
      "outputs": [
        {
          "output_type": "execute_result",
          "data": {
            "text/plain": [
              "tensor([[0.0000, 0.0887, 0.4890],\n",
              "        [0.5887, 0.7340, 0.8497]])"
            ]
          },
          "metadata": {},
          "execution_count": 98
        }
      ]
    },
    {
      "cell_type": "code",
      "source": [
        "a[0][0]=5"
      ],
      "metadata": {
        "id": "YT00c7NDfYKe"
      },
      "execution_count": 99,
      "outputs": []
    },
    {
      "cell_type": "code",
      "source": [
        "a"
      ],
      "metadata": {
        "colab": {
          "base_uri": "https://localhost:8080/"
        },
        "id": "e5jsJZOwfat0",
        "outputId": "d35c0076-9a1a-4150-9d6c-7cdbd779bd4a"
      },
      "execution_count": 100,
      "outputs": [
        {
          "output_type": "execute_result",
          "data": {
            "text/plain": [
              "tensor([[5.0000, 0.0887, 0.4890],\n",
              "        [0.5887, 0.7340, 0.8497]])"
            ]
          },
          "metadata": {},
          "execution_count": 100
        }
      ]
    },
    {
      "cell_type": "code",
      "source": [
        "c"
      ],
      "metadata": {
        "colab": {
          "base_uri": "https://localhost:8080/"
        },
        "id": "KbhzpHxxfbX1",
        "outputId": "3cd4ae8d-2513-4f85-c1cc-db363c8dd998"
      },
      "execution_count": 101,
      "outputs": [
        {
          "output_type": "execute_result",
          "data": {
            "text/plain": [
              "tensor([[0.0000, 0.0887, 0.4890],\n",
              "        [0.5887, 0.7340, 0.8497]])"
            ]
          },
          "metadata": {},
          "execution_count": 101
        }
      ]
    },
    {
      "cell_type": "code",
      "source": [
        "id(a)"
      ],
      "metadata": {
        "colab": {
          "base_uri": "https://localhost:8080/"
        },
        "id": "FSFUtSHPfcYd",
        "outputId": "efee716a-e5e3-4fd5-c314-cf2cedae8e07"
      },
      "execution_count": 102,
      "outputs": [
        {
          "output_type": "execute_result",
          "data": {
            "text/plain": [
              "132928032785008"
            ]
          },
          "metadata": {},
          "execution_count": 102
        }
      ]
    },
    {
      "cell_type": "code",
      "source": [
        "id(c)"
      ],
      "metadata": {
        "colab": {
          "base_uri": "https://localhost:8080/"
        },
        "id": "644GPopgfodb",
        "outputId": "8a6c5de5-da6d-45f7-f7ae-709543be9e54"
      },
      "execution_count": 103,
      "outputs": [
        {
          "output_type": "execute_result",
          "data": {
            "text/plain": [
              "132928033115968"
            ]
          },
          "metadata": {},
          "execution_count": 103
        }
      ]
    },
    {
      "cell_type": "markdown",
      "source": [
        "#### 9 .Tensor operations on GPU"
      ],
      "metadata": {
        "id": "bJ3LfnDJf8x6"
      }
    },
    {
      "cell_type": "code",
      "source": [
        "import torch"
      ],
      "metadata": {
        "id": "mTTd1h-UgdeG"
      },
      "execution_count": 2,
      "outputs": []
    },
    {
      "cell_type": "code",
      "source": [
        "torch.cuda.is_available()"
      ],
      "metadata": {
        "colab": {
          "base_uri": "https://localhost:8080/"
        },
        "id": "khuzd8JbfpY6",
        "outputId": "7eca9492-1669-4108-b517-1d9e04e52709"
      },
      "execution_count": 3,
      "outputs": [
        {
          "output_type": "execute_result",
          "data": {
            "text/plain": [
              "True"
            ]
          },
          "metadata": {},
          "execution_count": 3
        }
      ]
    },
    {
      "cell_type": "code",
      "source": [
        "device = torch.device('cuda')"
      ],
      "metadata": {
        "id": "5zc690NvgGj_"
      },
      "execution_count": 4,
      "outputs": []
    },
    {
      "cell_type": "code",
      "source": [
        "# creating tensor on gpu\n",
        "torch.rand((2,3),device=device)"
      ],
      "metadata": {
        "colab": {
          "base_uri": "https://localhost:8080/"
        },
        "id": "rEejIk2GgoYh",
        "outputId": "ee9498ce-4511-4cd8-d8ce-4acc24e19248"
      },
      "execution_count": 5,
      "outputs": [
        {
          "output_type": "execute_result",
          "data": {
            "text/plain": [
              "tensor([[0.2365, 0.4597, 0.7482],\n",
              "        [0.4862, 0.7514, 0.3861]], device='cuda:0')"
            ]
          },
          "metadata": {},
          "execution_count": 5
        }
      ]
    },
    {
      "cell_type": "code",
      "source": [
        "# moving an existing tensor to gpu\n",
        "x = torch.rand((2,3))\n",
        "x"
      ],
      "metadata": {
        "colab": {
          "base_uri": "https://localhost:8080/"
        },
        "id": "toHHre-2g2FU",
        "outputId": "b53a6d6e-a0a3-4e26-d5c1-600e1b12a996"
      },
      "execution_count": 6,
      "outputs": [
        {
          "output_type": "execute_result",
          "data": {
            "text/plain": [
              "tensor([[0.2364, 0.8610, 0.6021],\n",
              "        [0.2426, 0.7213, 0.0373]])"
            ]
          },
          "metadata": {},
          "execution_count": 6
        }
      ]
    },
    {
      "cell_type": "code",
      "source": [
        "y=x.to(device)\n",
        "y"
      ],
      "metadata": {
        "colab": {
          "base_uri": "https://localhost:8080/"
        },
        "id": "HtaeZDCLhFSI",
        "outputId": "6f337b4d-d81e-4fac-c39f-ce8d48630c52"
      },
      "execution_count": 8,
      "outputs": [
        {
          "output_type": "execute_result",
          "data": {
            "text/plain": [
              "tensor([[0.2364, 0.8610, 0.6021],\n",
              "        [0.2426, 0.7213, 0.0373]], device='cuda:0')"
            ]
          },
          "metadata": {},
          "execution_count": 8
        }
      ]
    },
    {
      "cell_type": "code",
      "source": [
        "y+5 # this operation is now running on gpu"
      ],
      "metadata": {
        "colab": {
          "base_uri": "https://localhost:8080/"
        },
        "id": "LltIw6lVhVay",
        "outputId": "54524a33-6125-4172-9729-408b301212e6"
      },
      "execution_count": 9,
      "outputs": [
        {
          "output_type": "execute_result",
          "data": {
            "text/plain": [
              "tensor([[5.2364, 5.8610, 5.6021],\n",
              "        [5.2426, 5.7213, 5.0373]], device='cuda:0')"
            ]
          },
          "metadata": {},
          "execution_count": 9
        }
      ]
    },
    {
      "cell_type": "code",
      "source": [
        "import time\n",
        "\n",
        "size =10000\n",
        "\n",
        "# creating random matrix on cpu\n",
        "matrix_cpu1 = torch.randn(size,size)\n",
        "matrix_cpu2 = torch.randn(size,size)\n",
        "\n",
        "# measure time on cpu\n",
        "start_time = time.time()\n",
        "result_cpu = torch.matmul(matrix_cpu1,matrix_cpu2)\n",
        "cpu_time = time.time() - start_time\n",
        "\n",
        "print(f\"total time taken on cpu to perform above calculations :{cpu_time:.4f} seconds\")\n",
        "\n",
        "# move matrix to gpu\n",
        "matrix_gpu1=matrix_cpu1.to('cuda')\n",
        "matrix_gpu2=matrix_cpu2.to('cuda')\n",
        "\n",
        "\n",
        "# measure time on gpu\n",
        "start_time = time.time()\n",
        "result_gpu = torch.matmul(matrix_gpu1,matrix_gpu2)\n",
        "torch.cuda.synchronize() #ensure all gpu operation complete\n",
        "gpu_time = time.time() - start_time\n",
        "\n",
        "print(f\"total time taken on gpu to perform above calculations :{gpu_time:4f} seconds\")\n",
        "\n",
        "# compare result\n",
        "\n",
        "print(\"\\nspeedup (cpu time / gpu time):\",cpu_time/gpu_time)"
      ],
      "metadata": {
        "colab": {
          "base_uri": "https://localhost:8080/"
        },
        "id": "MNrNv1UUhWPG",
        "outputId": "b8f887c2-cf3b-4903-8e55-ac797bf08923"
      },
      "execution_count": 11,
      "outputs": [
        {
          "output_type": "stream",
          "name": "stdout",
          "text": [
            "total time taken on cpu to perform above calculations :16.0377 seconds\n",
            "total time taken on gpu to perform above calculations :0.656639 seconds\n",
            "\n",
            "speedup (cpu time / gpu time): 24.423933380413885\n"
          ]
        }
      ]
    },
    {
      "cell_type": "markdown",
      "source": [
        "#### 10. Reshaping tensors"
      ],
      "metadata": {
        "id": "HD71kKXzkhNs"
      }
    },
    {
      "cell_type": "code",
      "source": [
        "a = torch.ones(4,4)\n",
        "a"
      ],
      "metadata": {
        "colab": {
          "base_uri": "https://localhost:8080/"
        },
        "id": "c6sIsCqRjzST",
        "outputId": "c4896a03-002c-41a7-c2d0-f5e20cda3678"
      },
      "execution_count": 13,
      "outputs": [
        {
          "output_type": "execute_result",
          "data": {
            "text/plain": [
              "tensor([[1., 1., 1., 1.],\n",
              "        [1., 1., 1., 1.],\n",
              "        [1., 1., 1., 1.],\n",
              "        [1., 1., 1., 1.]])"
            ]
          },
          "metadata": {},
          "execution_count": 13
        }
      ]
    },
    {
      "cell_type": "code",
      "source": [
        "# reshape\n",
        "a.reshape(2,2,2,2)"
      ],
      "metadata": {
        "colab": {
          "base_uri": "https://localhost:8080/"
        },
        "id": "Fszw4L3Kkslj",
        "outputId": "4b7181f6-245f-44d9-c895-9ba70f069446"
      },
      "execution_count": 14,
      "outputs": [
        {
          "output_type": "execute_result",
          "data": {
            "text/plain": [
              "tensor([[[[1., 1.],\n",
              "          [1., 1.]],\n",
              "\n",
              "         [[1., 1.],\n",
              "          [1., 1.]]],\n",
              "\n",
              "\n",
              "        [[[1., 1.],\n",
              "          [1., 1.]],\n",
              "\n",
              "         [[1., 1.],\n",
              "          [1., 1.]]]])"
            ]
          },
          "metadata": {},
          "execution_count": 14
        }
      ]
    },
    {
      "cell_type": "code",
      "source": [
        "# flatten\n",
        "a.flatten()"
      ],
      "metadata": {
        "colab": {
          "base_uri": "https://localhost:8080/"
        },
        "id": "Ys6gmxHvkzsm",
        "outputId": "3372b791-1083-48e7-97ca-b027d51d4ac1"
      },
      "execution_count": 15,
      "outputs": [
        {
          "output_type": "execute_result",
          "data": {
            "text/plain": [
              "tensor([1., 1., 1., 1., 1., 1., 1., 1., 1., 1., 1., 1., 1., 1., 1., 1.])"
            ]
          },
          "metadata": {},
          "execution_count": 15
        }
      ]
    },
    {
      "cell_type": "code",
      "source": [
        "b = torch.rand(2,3,4)\n",
        "b"
      ],
      "metadata": {
        "colab": {
          "base_uri": "https://localhost:8080/"
        },
        "id": "ARW_FeTPk_FQ",
        "outputId": "47152a89-4fb6-4443-ecad-b0dcbfa2b342"
      },
      "execution_count": 16,
      "outputs": [
        {
          "output_type": "execute_result",
          "data": {
            "text/plain": [
              "tensor([[[0.5159, 0.3230, 0.8592, 0.9328],\n",
              "         [0.0763, 0.1714, 0.2239, 0.2923],\n",
              "         [0.7454, 0.2974, 0.5570, 0.5802]],\n",
              "\n",
              "        [[0.3914, 0.5038, 0.1178, 0.9765],\n",
              "         [0.0764, 0.4415, 0.5724, 0.5975],\n",
              "         [0.7516, 0.3307, 0.8106, 0.5567]]])"
            ]
          },
          "metadata": {},
          "execution_count": 16
        }
      ]
    },
    {
      "cell_type": "code",
      "source": [
        "# permute\n",
        "b.permute(2,0,1)"
      ],
      "metadata": {
        "colab": {
          "base_uri": "https://localhost:8080/"
        },
        "id": "4r9ap3TrlGYF",
        "outputId": "e1e174db-953f-4937-ec4f-bdfa86ba962a"
      },
      "execution_count": 17,
      "outputs": [
        {
          "output_type": "execute_result",
          "data": {
            "text/plain": [
              "tensor([[[0.5159, 0.0763, 0.7454],\n",
              "         [0.3914, 0.0764, 0.7516]],\n",
              "\n",
              "        [[0.3230, 0.1714, 0.2974],\n",
              "         [0.5038, 0.4415, 0.3307]],\n",
              "\n",
              "        [[0.8592, 0.2239, 0.5570],\n",
              "         [0.1178, 0.5724, 0.8106]],\n",
              "\n",
              "        [[0.9328, 0.2923, 0.5802],\n",
              "         [0.9765, 0.5975, 0.5567]]])"
            ]
          },
          "metadata": {},
          "execution_count": 17
        }
      ]
    },
    {
      "cell_type": "code",
      "source": [
        "b.permute(2,0,1).shape"
      ],
      "metadata": {
        "colab": {
          "base_uri": "https://localhost:8080/"
        },
        "id": "CEBWKi9clWi7",
        "outputId": "4b5d2340-6052-41ef-b678-78d3e37e5f86"
      },
      "execution_count": 18,
      "outputs": [
        {
          "output_type": "execute_result",
          "data": {
            "text/plain": [
              "torch.Size([4, 2, 3])"
            ]
          },
          "metadata": {},
          "execution_count": 18
        }
      ]
    },
    {
      "cell_type": "code",
      "source": [
        "# unsqueeze\n",
        "# image\n",
        "c = torch.rand(226,226,3)\n",
        "c.unsqueeze(0)\n",
        "c.unsqueeze(0).shape"
      ],
      "metadata": {
        "colab": {
          "base_uri": "https://localhost:8080/"
        },
        "id": "rEatILsJld5W",
        "outputId": "732d91b8-d992-45b9-b27b-7a37e9fd1ec0"
      },
      "execution_count": 19,
      "outputs": [
        {
          "output_type": "execute_result",
          "data": {
            "text/plain": [
              "torch.Size([1, 226, 226, 3])"
            ]
          },
          "metadata": {},
          "execution_count": 19
        }
      ]
    },
    {
      "cell_type": "code",
      "source": [
        "# squeeze\n",
        "\n",
        "d = torch.rand(1,10)\n",
        "d.squeeze(0)"
      ],
      "metadata": {
        "colab": {
          "base_uri": "https://localhost:8080/"
        },
        "id": "nSZxrVdxmIIE",
        "outputId": "fb6ee5b2-c6f2-4e4a-dbc1-de450b129d18"
      },
      "execution_count": 20,
      "outputs": [
        {
          "output_type": "execute_result",
          "data": {
            "text/plain": [
              "tensor([0.4705, 0.1175, 0.6467, 0.2562, 0.8721, 0.9007, 0.8462, 0.2463, 0.5776,\n",
              "        0.7092])"
            ]
          },
          "metadata": {},
          "execution_count": 20
        }
      ]
    },
    {
      "cell_type": "markdown",
      "source": [
        "#### 11 . Numpy and Pytorch"
      ],
      "metadata": {
        "id": "a1nZkVKBmnAr"
      }
    },
    {
      "cell_type": "code",
      "source": [
        "import numpy as np"
      ],
      "metadata": {
        "id": "-VBtOvHmmjsY"
      },
      "execution_count": 21,
      "outputs": []
    },
    {
      "cell_type": "code",
      "source": [
        "a = torch.tensor([1,2,3])\n",
        "a"
      ],
      "metadata": {
        "colab": {
          "base_uri": "https://localhost:8080/"
        },
        "id": "Y_3umnqum1QI",
        "outputId": "96a56e19-784c-41d5-88c3-47fe8df39d35"
      },
      "execution_count": 22,
      "outputs": [
        {
          "output_type": "execute_result",
          "data": {
            "text/plain": [
              "tensor([1, 2, 3])"
            ]
          },
          "metadata": {},
          "execution_count": 22
        }
      ]
    },
    {
      "cell_type": "code",
      "source": [
        "b = a.numpy()\n",
        "b"
      ],
      "metadata": {
        "colab": {
          "base_uri": "https://localhost:8080/"
        },
        "id": "BCOnbtrcm_PG",
        "outputId": "4a747b2f-0a8d-47e1-e9c0-fe2abed447bc"
      },
      "execution_count": 23,
      "outputs": [
        {
          "output_type": "execute_result",
          "data": {
            "text/plain": [
              "array([1, 2, 3])"
            ]
          },
          "metadata": {},
          "execution_count": 23
        }
      ]
    },
    {
      "cell_type": "code",
      "source": [
        "type(b)"
      ],
      "metadata": {
        "colab": {
          "base_uri": "https://localhost:8080/"
        },
        "id": "eYLd5qNLnNyI",
        "outputId": "3b1ce839-b5c9-433d-cceb-fb1079772290"
      },
      "execution_count": 24,
      "outputs": [
        {
          "output_type": "execute_result",
          "data": {
            "text/plain": [
              "numpy.ndarray"
            ]
          },
          "metadata": {},
          "execution_count": 24
        }
      ]
    },
    {
      "cell_type": "code",
      "source": [
        "c = np.array([1,2,3])\n",
        "c"
      ],
      "metadata": {
        "colab": {
          "base_uri": "https://localhost:8080/"
        },
        "id": "GixMhQVRnO3F",
        "outputId": "11f07cc2-a5bd-421e-ee57-563a7ada5cf6"
      },
      "execution_count": 25,
      "outputs": [
        {
          "output_type": "execute_result",
          "data": {
            "text/plain": [
              "array([1, 2, 3])"
            ]
          },
          "metadata": {},
          "execution_count": 25
        }
      ]
    },
    {
      "cell_type": "code",
      "source": [
        "torch.from_numpy(c)"
      ],
      "metadata": {
        "colab": {
          "base_uri": "https://localhost:8080/"
        },
        "id": "_YVPeRW7nXFg",
        "outputId": "464bab9d-2ebc-4e92-d75d-c1b96f97ea39"
      },
      "execution_count": 26,
      "outputs": [
        {
          "output_type": "execute_result",
          "data": {
            "text/plain": [
              "tensor([1, 2, 3])"
            ]
          },
          "metadata": {},
          "execution_count": 26
        }
      ]
    },
    {
      "cell_type": "code",
      "source": [],
      "metadata": {
        "id": "fkNAIvDrnbiI"
      },
      "execution_count": null,
      "outputs": []
    }
  ]
}